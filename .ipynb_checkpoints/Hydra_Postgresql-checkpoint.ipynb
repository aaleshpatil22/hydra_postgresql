{
 "cells": [
  {
   "cell_type": "markdown",
   "id": "38699bf8",
   "metadata": {},
   "source": [
    "# Import Required Libraries"
   ]
  },
  {
   "cell_type": "code",
   "execution_count": 12,
   "id": "0836fb2f",
   "metadata": {},
   "outputs": [],
   "source": [
    "import pandas as pd\n",
    "import numpy as np\n",
    "import random\n",
    "from datetime import datetime, timedelta\n",
    "from sqlalchemy import create_engine\n",
    "import configparser"
   ]
  },
  {
   "cell_type": "markdown",
   "id": "37efbaa7",
   "metadata": {},
   "source": [
    "# Create Random Datasets for Creating DataFrame"
   ]
  },
  {
   "cell_type": "code",
   "execution_count": 13,
   "id": "c10a066e",
   "metadata": {},
   "outputs": [
    {
     "data": {
      "text/html": [
       "<div>\n",
       "<style scoped>\n",
       "    .dataframe tbody tr th:only-of-type {\n",
       "        vertical-align: middle;\n",
       "    }\n",
       "\n",
       "    .dataframe tbody tr th {\n",
       "        vertical-align: top;\n",
       "    }\n",
       "\n",
       "    .dataframe thead th {\n",
       "        text-align: right;\n",
       "    }\n",
       "</style>\n",
       "<table border=\"1\" class=\"dataframe\">\n",
       "  <thead>\n",
       "    <tr style=\"text-align: right;\">\n",
       "      <th></th>\n",
       "      <th>record_date</th>\n",
       "      <th>beginning_users</th>\n",
       "      <th>new_users</th>\n",
       "      <th>lost_users</th>\n",
       "      <th>logins</th>\n",
       "      <th>end_users</th>\n",
       "      <th>active_users</th>\n",
       "      <th>monthly_retention</th>\n",
       "      <th>monthly_churn</th>\n",
       "    </tr>\n",
       "  </thead>\n",
       "  <tbody>\n",
       "    <tr>\n",
       "      <th>0</th>\n",
       "      <td>2024-03-31</td>\n",
       "      <td>3234</td>\n",
       "      <td>317</td>\n",
       "      <td>157</td>\n",
       "      <td>496</td>\n",
       "      <td>3394</td>\n",
       "      <td>884</td>\n",
       "      <td>0.260687</td>\n",
       "      <td>0.739313</td>\n",
       "    </tr>\n",
       "    <tr>\n",
       "      <th>1</th>\n",
       "      <td>2024-03-01</td>\n",
       "      <td>3781</td>\n",
       "      <td>307</td>\n",
       "      <td>58</td>\n",
       "      <td>790</td>\n",
       "      <td>4030</td>\n",
       "      <td>1190</td>\n",
       "      <td>0.295362</td>\n",
       "      <td>0.704638</td>\n",
       "    </tr>\n",
       "    <tr>\n",
       "      <th>2</th>\n",
       "      <td>2024-01-31</td>\n",
       "      <td>1210</td>\n",
       "      <td>296</td>\n",
       "      <td>27</td>\n",
       "      <td>353</td>\n",
       "      <td>1479</td>\n",
       "      <td>511</td>\n",
       "      <td>0.345940</td>\n",
       "      <td>0.654060</td>\n",
       "    </tr>\n",
       "    <tr>\n",
       "      <th>3</th>\n",
       "      <td>2024-01-01</td>\n",
       "      <td>4794</td>\n",
       "      <td>132</td>\n",
       "      <td>171</td>\n",
       "      <td>118</td>\n",
       "      <td>4755</td>\n",
       "      <td>1974</td>\n",
       "      <td>0.415153</td>\n",
       "      <td>0.584847</td>\n",
       "    </tr>\n",
       "    <tr>\n",
       "      <th>4</th>\n",
       "      <td>2023-12-02</td>\n",
       "      <td>1436</td>\n",
       "      <td>297</td>\n",
       "      <td>35</td>\n",
       "      <td>206</td>\n",
       "      <td>1698</td>\n",
       "      <td>852</td>\n",
       "      <td>0.502033</td>\n",
       "      <td>0.497967</td>\n",
       "    </tr>\n",
       "  </tbody>\n",
       "</table>\n",
       "</div>"
      ],
      "text/plain": [
       "  record_date  beginning_users  new_users  lost_users  logins  end_users  \\\n",
       "0  2024-03-31             3234        317         157     496       3394   \n",
       "1  2024-03-01             3781        307          58     790       4030   \n",
       "2  2024-01-31             1210        296          27     353       1479   \n",
       "3  2024-01-01             4794        132         171     118       4755   \n",
       "4  2023-12-02             1436        297          35     206       1698   \n",
       "\n",
       "   active_users  monthly_retention  monthly_churn  \n",
       "0           884           0.260687       0.739313  \n",
       "1          1190           0.295362       0.704638  \n",
       "2           511           0.345940       0.654060  \n",
       "3          1974           0.415153       0.584847  \n",
       "4           852           0.502033       0.497967  "
      ]
     },
     "metadata": {},
     "output_type": "display_data"
    }
   ],
   "source": [
    "\n",
    "# Define the number of months and the initial retention rate\n",
    "num_months = 120\n",
    "initial_retention_rate = 0.2  # Initial monthly retention rate\n",
    "\n",
    "# Function to generate realistic monthly retention rates\n",
    "def generate_retention_rates(num_months, initial_rate):\n",
    "    months = list(range(1, num_months + 1))\n",
    "    retention_rates = []\n",
    "    for month in months:\n",
    "        # Model logistic growth to gradually increase retention rates over time\n",
    "        retention_rate = 1 / (1 + np.exp(-0.5 * (month - 6)))\n",
    "        # Scale the retention rate based on the initial rate\n",
    "        retention_rate = initial_rate + (1 - initial_rate) * retention_rate\n",
    "        retention_rates.append(retention_rate)\n",
    "    return retention_rates\n",
    "\n",
    "# Generate realistic monthly retention rates\n",
    "retention_rates = generate_retention_rates(num_months, initial_retention_rate)\n",
    "\n",
    "# Generate random data for each column\n",
    "data = {\n",
    "    'record_date': [datetime.now().date() - timedelta(days=30*i) for i in range(num_months)],\n",
    "    'beginning_users': [random.randint(1000, 5000) for _ in range(num_months)],\n",
    "    'new_users': [random.randint(50, 500) for _ in range(num_months)],\n",
    "    'lost_users': [random.randint(20, 200) for _ in range(num_months)],\n",
    "    'logins': [random.randint(100, 1000) for _ in range(num_months)]\n",
    "}\n",
    "\n",
    "# Calculate end users\n",
    "data['end_users'] = [beginning + new - lost for beginning, new, lost in zip(data['beginning_users'], data['new_users'], data['lost_users'])]\n",
    "\n",
    "# Calculate active users using retention rates\n",
    "data['active_users'] = [int(end_users * retention_rate) for end_users, retention_rate in zip(data['end_users'], retention_rates)]\n",
    "data['monthly_retention'] = retention_rates\n",
    "data['monthly_churn'] = 1 - np.array(retention_rates)\n",
    "\n",
    "# Create the DataFrame\n",
    "df = pd.DataFrame(data)\n",
    "\n",
    "# Display the DataFrame\n",
    "display(df.head())"
   ]
  },
  {
   "cell_type": "markdown",
   "id": "61ece3fa",
   "metadata": {},
   "source": [
    "# Load Random Data to Postgresql Database"
   ]
  },
  {
   "cell_type": "code",
   "execution_count": 14,
   "id": "9c262022",
   "metadata": {},
   "outputs": [
    {
     "name": "stdout",
     "output_type": "stream",
     "text": [
      "writing 120 records\n"
     ]
    },
    {
     "data": {
      "text/plain": [
       "120"
      ]
     },
     "execution_count": 14,
     "metadata": {},
     "output_type": "execute_result"
    }
   ],
   "source": [
    "#Assign required credentials from con.txt file\n",
    "config = configparser.ConfigParser()\n",
    "config.read('con.txt')\n",
    "\n",
    "#INPUT YOUR OWN CONNECTION STRING HERE\n",
    "conn_string = config['DBCRED']['conn']\n",
    "\n",
    "#perform to_sql test and print result\n",
    "db = create_engine(conn_string)\n",
    "conn = db.connect()\n",
    "print(f\"writing {len(df)} records\")\n",
    "df.to_sql('user_activity', con=conn, if_exists='replace', index=False)"
   ]
  }
 ],
 "metadata": {
  "kernelspec": {
   "display_name": "Python 3 (ipykernel)",
   "language": "python",
   "name": "python3"
  },
  "language_info": {
   "codemirror_mode": {
    "name": "ipython",
    "version": 3
   },
   "file_extension": ".py",
   "mimetype": "text/x-python",
   "name": "python",
   "nbconvert_exporter": "python",
   "pygments_lexer": "ipython3",
   "version": "3.9.13"
  }
 },
 "nbformat": 4,
 "nbformat_minor": 5
}
